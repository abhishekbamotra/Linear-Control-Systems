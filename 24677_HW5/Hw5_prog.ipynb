{
 "cells": [
  {
   "cell_type": "markdown",
   "metadata": {
    "colab_type": "text",
    "id": "ajeTnOHhd6Nu"
   },
   "source": [
    "## Homework 5"
   ]
  },
  {
   "cell_type": "markdown",
   "metadata": {
    "colab_type": "text",
    "id": "nlCKoOdqbqNl"
   },
   "source": [
    "## Exercise 1\n",
    "### Discretization\n",
    "Consider\n",
    "\n",
    "   $$\n",
    "        \\dot{x(t)}=\\begin{bmatrix} \n",
    "        -2 & 0 \\\\ 1 & 0 \\end{bmatrix}x(t) + \\begin{bmatrix} \n",
    "        1 \\\\ 0 \\end{bmatrix}u(t) \\\\\n",
    "        y(t) = \\begin{bmatrix} \n",
    "        0 & 1\\end{bmatrix}x(t) + 2u(t)\n",
    "   $$\n",
    "    \n",
    "Discretize the system using a sampling time of  $T = 0.1s$. \n",
    "\n",
    "Assume initial conditions: $ \n",
    "       {x}(0) = \\begin{bmatrix}\n",
    "       0 \\\\ 0 \\end{bmatrix}\n",
    "    $and  ${u}(t) = 5$. \n",
    "    \n",
    "   Find the $ \n",
    "       {x}(8)$ and ${y}(8)$ using the discrete system."
   ]
  },
  {
   "cell_type": "code",
   "execution_count": 2,
   "metadata": {},
   "outputs": [
    {
     "name": "stdout",
     "output_type": "stream",
     "text": [
      "StateSpaceDiscrete(\n",
      "array([[0.81873075, 0.        ],\n",
      "       [0.09063462, 1.        ]]),\n",
      "array([[0.09063462],\n",
      "       [0.00468269]]),\n",
      "matrix([[0, 1]]),\n",
      "matrix([[2]]),\n",
      "dt: 0.1\n",
      ")\n"
     ]
    }
   ],
   "source": [
    "import numpy as np\n",
    "from scipy import signal\n",
    "\n",
    "A = np.matrix([[-2,0],[1,0]])\n",
    "B = np.matrix([[1],[0]])\n",
    "C = np.matrix([0, 1])\n",
    "D = np.matrix([2])\n",
    "T = 0.1\n",
    "ut = 5\n",
    "\n",
    "system = signal.StateSpace(A, B, C, D)\n",
    "disc_sys = system.to_discrete(T)\n",
    "print(disc_sys)"
   ]
  },
  {
   "cell_type": "code",
   "execution_count": 5,
   "metadata": {},
   "outputs": [],
   "source": [
    "A_new = np.matrix([[0.81873075,0],[0.09063462,1]])\n",
    "B_new = np.matrix([[0.09063462],[0.00468269]])\n",
    "\n",
    "k = 80\n",
    "x8 = np.zeros((2,1))\n",
    "y8 = 0\n",
    "for i in range(k):\n",
    "    x8 = x8 + A_new**(k-i-1) @ B_new * ut\n",
    "    \n",
    "\n",
    "for j in range(k):\n",
    "    y8 = y8 + C @ A_new**(k-j-1) @ B_new * ut\n",
    "    \n",
    "y8 = y8 + (D * ut)\n",
    "\n",
    "hw5_dict = {\"x\": x8,\n",
    "           \"y\": y8}\n",
    "\n",
    "np.save(\"hw5_output.npy\", hw5_dict)"
   ]
  },
  {
   "cell_type": "markdown",
   "metadata": {
    "colab_type": "text",
    "id": "Hb0Jr0WudoMs"
   },
   "source": [
    "__Submission:__\n",
    "\n",
    "*   Save the solution of Exercise 1 into the dictionary as following:\n",
    "\n",
    "```\n",
    "hw5_dict\n",
    "  \"x\": x_8\n",
    "  \"y\": y_8\n",
    "```\n",
    "\n",
    "* The shape of x_8 must be (2,1) and that of y_8, (1,1).\n",
    "* Make sure there are 2 entries in the dictionary.\n",
    "\n",
    "*   Save into a file named \"hw5_output.npy\" and upload to gradescope.\n",
    "\n",
    "\n",
    "*   You can submit ony twice per day. Last submission will be used for grading.\n"
   ]
  }
 ],
 "metadata": {
  "colab": {
   "collapsed_sections": [],
   "name": "Hw5_prog.ipynb",
   "provenance": [],
   "toc_visible": true
  },
  "kernelspec": {
   "display_name": "Python 3",
   "language": "python",
   "name": "python3"
  },
  "language_info": {
   "codemirror_mode": {
    "name": "ipython",
    "version": 3
   },
   "file_extension": ".py",
   "mimetype": "text/x-python",
   "name": "python",
   "nbconvert_exporter": "python",
   "pygments_lexer": "ipython3",
   "version": "3.6.3"
  }
 },
 "nbformat": 4,
 "nbformat_minor": 1
}
