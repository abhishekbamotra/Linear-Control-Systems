{
  "nbformat": 4,
  "nbformat_minor": 0,
  "metadata": {
    "kernelspec": {
      "display_name": "Python 3",
      "language": "python",
      "name": "python3"
    },
    "language_info": {
      "codemirror_mode": {
        "name": "ipython",
        "version": 3
      },
      "file_extension": ".py",
      "mimetype": "text/x-python",
      "name": "python",
      "nbconvert_exporter": "python",
      "pygments_lexer": "ipython3",
      "version": "3.6.8"
    },
    "colab": {
      "name": "PHW2_qs.ipynb",
      "version": "0.3.2",
      "provenance": [],
      "collapsed_sections": []
    }
  },
  "cells": [
    {
      "cell_type": "markdown",
      "metadata": {
        "id": "YlcQ3GUJd6lP",
        "colab_type": "text"
      },
      "source": [
        "##Homework 2"
      ]
    },
    {
      "cell_type": "markdown",
      "metadata": {
        "id": "gzNM4DYKeuUK",
        "colab_type": "text"
      },
      "source": [
        "#### Knowledge: Using numpy operations and functions"
      ]
    },
    {
      "cell_type": "markdown",
      "metadata": {
        "id": "DrDtTNys7u52",
        "colab_type": "text"
      },
      "source": [
        "1. Write a script to perform an inner product of the given arrays:\n",
        "\n",
        "\n",
        "```\n",
        " x = np.arange(24).reshape((2,3,4))\n",
        " y = np.arange(4)\n",
        "```\n",
        "\n",
        "    np.reshape: Gives a new shape to an array without changing its data. reference:https://docs.scipy.org/doc/numpy/reference/generated/numpy.reshape.html\n",
        "    np.arange: Returns evenly spaced values within a given interval. reference:https://docs.scipy.org/doc/numpy/reference/generated/numpy.arange.html\n",
        "\n",
        "\n",
        "\n",
        "\n",
        "\n",
        "> Save the array x, y and the inner product.\n",
        "\n",
        "\n"
      ]
    },
    {
      "cell_type": "markdown",
      "metadata": {
        "id": "DzcG56a-e0Fe",
        "colab_type": "text"
      },
      "source": [
        "\n",
        "\n",
        "2.   Write a function to transform an input vector in Cartesian basis into a vector in the given basis.\n",
        "\n",
        ">The function takes input arguements: new_basis_vec1, new_basis_vec2, new_basis_vec3, vec_old. \n",
        "\n",
        ">$$ A,v_{new} = f\\{x_{1},x_{2},x_{3},z_{1},z_{2},z_{3},v_{old}\\}$$\n",
        "  Where $x_{1},x_{2},x_{3}$ are cartesian basis vectors and $z_{1},z_{2},z_{3}$ are new given basis vectors. The vector to transform is $v_{old}$. Refer slides to understand how to create change of basis matrix, to do the transformation.\n",
        "\n",
        ">It should return the transfromed vector $v_{new}$.\n",
        ">Please refer to the comments given in template code for further information.\n",
        "\n",
        "    ( Ensure the input arguement satisfies the basis condition or not.)\n",
        "\n",
        "\n",
        "    You can use sympy or numpy. You might need sympy to find the linear dependence of matrix [sympy](https://docs.sympy.org/latest/tutorial/matrices.html).\n",
        "\n",
        "    We have provided you a function \"plotBasis\" for you to check plot of the trasformed vector. Uncomment the function \"plotBasis\" to run and test your output. "
      ]
    },
    {
      "cell_type": "markdown",
      "metadata": {
        "id": "G3whIyuHPDXS",
        "colab_type": "text"
      },
      "source": [
        "##Question 1"
      ]
    },
    {
      "cell_type": "code",
      "metadata": {
        "id": "V66dJ7q9RaYN",
        "colab_type": "code",
        "colab": {}
      },
      "source": [
        "\n",
        "import numpy as np\n",
        "\n",
        "# **** Insert your code here ****  "
      ],
      "execution_count": 0,
      "outputs": []
    },
    {
      "cell_type": "markdown",
      "metadata": {
        "id": "HlrzJaG0PHtJ",
        "colab_type": "text"
      },
      "source": [
        "##Question 2"
      ]
    },
    {
      "cell_type": "code",
      "metadata": {
        "colab_type": "code",
        "id": "kvVyFQRE2hax",
        "colab": {}
      },
      "source": [
        "import matplotlib.pyplot as plt\n",
        "from sympy import *\n",
        "import numpy as np\n",
        "import sys\n",
        "\n",
        "\n",
        "def vectorBasisTransformation(new_basis_vec1, new_basis_vec2, new_basis_vec3, vec_old):\n",
        "  \"\"\"Transforms the vector in current basis(Cartesian) to new basis.\n",
        "  \n",
        "  Steps: \n",
        "    Make matrix of the given new basis vectors\n",
        "    Check linear dependence of matrix using sympy package\n",
        "    Check matrix invertibility\n",
        "    If linear dependent and invertible, transform given vector to new basis\n",
        "  \n",
        "  Args:\n",
        "    new_basis_vec1: New basis vector 1\n",
        "    new_basis_vec2: New basis vector 2\n",
        "    new_basis_vec3: New basis vector 3\n",
        "    vec_old: Vector to transform \n",
        "    \n",
        "  Returns:\n",
        "    matrix: The change of basis matrix from old to new basis.\n",
        "    vec_new: Vector in new basis.\n",
        "    \n",
        "  \"\"\"  \n",
        "  \n",
        "  # **** Insert your code here ****  \n",
        "  \n",
        "  return [matrix, vec_new]\n",
        "  \n",
        "if __name__ == \"__main__\":\n",
        "  actual_basis_vec1 = np.array([1,0,0])\n",
        "  actual_basis_vec2 = np.array([0,1, 0])\n",
        "  actual_basis_vec3 = np.array([0,0,1])\n",
        "  new_basis_vec1 =  np.array([2,3, 4])\n",
        "  new_basis_vec2 = np.array([-1,1, 1])\n",
        "  new_basis_vec3 = np.array([-1,0, 1])\n",
        "  vec_old = np.array([[2],[-4],[2]])\n",
        "  \n",
        "  basis_matrix, vector_new = vectorBasisTransformation(new_basis_vec1, new_basis_vec2, new_basis_vec3,vec_old) \n",
        "#   plotBasis(actual_basis_vec1, actual_basis_vec2, actual_basis_vec3, new_basis_vec1, new_basis_vec2, new_basis_vec3, vec_new, vec_old)"
      ],
      "execution_count": 0,
      "outputs": []
    },
    {
      "cell_type": "code",
      "metadata": {
        "colab_type": "code",
        "id": "uKjyS8JrRyco",
        "colab": {}
      },
      "source": [
        "def configure_plotly_browser_state():\n",
        "  import IPython\n",
        "  display(IPython.core.display.HTML('''\n",
        "        <script src=\"/static/components/requirejs/require.js\"></script>\n",
        "        <script>\n",
        "          requirejs.config({\n",
        "            paths: {\n",
        "              base: '/static/base',\n",
        "              plotly: 'https://cdn.plot.ly/plotly-1.5.1.min.js?noext',\n",
        "            },\n",
        "          });\n",
        "        </script>\n",
        "        '''))\n",
        "\n",
        "# The red vector is the changed basis whereas blue is the original basis\n",
        "def plotBasis(red_vect1, red_vect2, red_vect3, blue_vect1, blue_vect2, blue_vect3, vec_new, vec_old):\n",
        "  \"\"\"Plots the old basis and new basis\n",
        "\n",
        "  Args:\n",
        "    red_vect1: Old basis vec1 \n",
        "    red_vect2: Old basis vec2\n",
        "    red_vect3: Old basis vec3\n",
        "    blue_vect1: New basis vec1\n",
        "    blue_vect2: New basis vec2\n",
        "    blue_vect3: New basis vec3\n",
        "    vec_new: New vector (light blue)\n",
        "    vec_old: Old vector (orange)\n",
        "  \"\"\"\n",
        "  \n",
        "  # ploting lib\n",
        "  import plotly.graph_objs as go\n",
        "  from plotly.offline import plot\n",
        "  from plotly.offline import init_notebook_mode, iplot\n",
        "  from plotly.graph_objs import Scatter\n",
        "  configure_plotly_browser_state()\n",
        "  init_notebook_mode(connected=False)\n",
        "  \n",
        "  basis_old1 = go.Scatter3d( x = [0,red_vect1[0].item()],\n",
        "                         y = [0,red_vect1[1].item()],\n",
        "                         z = [0,red_vect1[2].item()],\n",
        "                         marker = dict( size = 5,\n",
        "                                        color = \"rgb(84,48,5)\"),\n",
        "                         line = dict( color = \"rgb(255,0,0)\",\n",
        "                                      width = 6)\n",
        "                       )\n",
        "  \n",
        "  basis_old2 = go.Scatter3d( x = [0,red_vect2[0].item()],\n",
        "                         y = [0,red_vect2[1].item()],\n",
        "                         z = [0,red_vect2[2].item()],\n",
        "                         marker = dict( size = 5,\n",
        "                                        color = \"rgb(84,48,5)\"),\n",
        "                         line = dict( color = \"rgb(255,0,0)\",\n",
        "                                      width = 6)\n",
        "                       )\n",
        "  \n",
        "  basis_old3 = go.Scatter3d( x = [0,red_vect3[0].item()],\n",
        "                         y = [0,red_vect3[1].item()],\n",
        "                         z = [0,red_vect3[2].item()],\n",
        "                         marker = dict( size = 5,\n",
        "                                        color = \"rgb(84,48,5)\"),\n",
        "                         line = dict( color = \"rgb(255,0,0)\",\n",
        "                                      width = 6)\n",
        "                       )\n",
        "  \n",
        "  basis_new1 = go.Scatter3d( x = [0,blue_vect1[0].item()],\n",
        "                         y = [0,blue_vect1[1].item()],\n",
        "                         z = [0,blue_vect1[2].item()],\n",
        "                         marker = dict( size = 5,\n",
        "                                        color = \"rgb(84,48,5)\"),\n",
        "                         line = dict( color = \"rgb(0,0,255)\",\n",
        "                                      width = 6)\n",
        "                       )  \n",
        "  \n",
        "  basis_new2 = go.Scatter3d( x = [0,blue_vect2[0].item()],\n",
        "                         y = [0,blue_vect2[1].item()],\n",
        "                         z = [0,blue_vect2[2].item()],\n",
        "                         marker = dict( size = 5,\n",
        "                                        color = \"rgb(84,48,5)\"),\n",
        "                         line = dict( color = \"rgb(0,0,255)\",\n",
        "                                      width = 6)\n",
        "                       )  \n",
        "  basis_new3 = go.Scatter3d( x = [0,blue_vect3[0].item()],\n",
        "                         y = [0,blue_vect3[1].item()],\n",
        "                         z = [0,blue_vect3[2].item()],\n",
        "                         marker = dict( size = 5,\n",
        "                                        color = \"rgb(84,48,5)\"),\n",
        "                         line = dict( color = \"rgb(0,0,255)\",\n",
        "                                      width = 6)\n",
        "                       )  \n",
        "  \n",
        "  # Light blue\n",
        "  vector_new = go.Scatter3d( x = [0,vec_new[0].item()],\n",
        "                         y = [0,vec_new[1].item()],\n",
        "                         z = [0,vec_new[2].item()],\n",
        "                         marker = dict( size = 5,\n",
        "                                        color = \"rgb(84,48,5)\"),\n",
        "                         line = dict( color = \"rgb(102,178,255)\",\n",
        "                                      width = 6)\n",
        "                       )\n",
        "  \n",
        "  \n",
        "  # Orange\n",
        "  vector_old = go.Scatter3d( x = [0,vec_old[0].item()],\n",
        "                         y = [0,vec_old[1].item()],\n",
        "                         z = [0,vec_old[2].item()],\n",
        "                         marker = dict( size = 5,\n",
        "                                        color = \"rgb(84,48,5)\"),\n",
        "                         line = dict( color = \"rgb(255,69,0)\",\n",
        "                                      width = 6)\n",
        "                       )\n",
        "  iplot([basis_old1, basis_old2, basis_old3,basis_new1, basis_new2, basis_new3, vector_new,vector_old ], show_link=False)"
      ],
      "execution_count": 0,
      "outputs": []
    },
    {
      "cell_type": "markdown",
      "metadata": {
        "id": "13tT-JHMZvNj",
        "colab_type": "text"
      },
      "source": [
        "__Submission:__\n",
        "\n",
        "*   Save your generated 'x', 'y' and your inner products output into a dictionary, with key value pair as:\n",
        "1.   \"0\": x, \n",
        "2.   \"1\": y,\n",
        "3.   \"2\": inner_products_numpy_array\n",
        "\n",
        "*   The output of the transformed function is a vector. Save the vector, and the change of basis matrix into the same dictonary with the keys and values:\n",
        "1.   \"3\": the_change_of_basis_matrix, \n",
        "2.   \"4\": new_vector_numpy_array\n",
        "\n",
        "    into a file **hw2_output.npy** . \n",
        "*   Along with the output file, copy paste or convert your code in Jupyter notebook to python script **hw2_script.py**. Remember to comment out your plaotting code, as when you run the script you would only want to save matrix and vector, not want to show the plot.\n",
        "\n"
      ]
    }
  ]
}