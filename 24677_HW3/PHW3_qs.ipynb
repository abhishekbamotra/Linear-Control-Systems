{
 "cells": [
  {
   "cell_type": "markdown",
   "metadata": {
    "colab_type": "text",
    "id": "n8H2NEqXd6ul"
   },
   "source": [
    "## Homework 3"
   ]
  },
  {
   "cell_type": "markdown",
   "metadata": {
    "colab_type": "text",
    "id": "PEElC0-agCMq"
   },
   "source": [
    "#### Knowledge: Classes and functions"
   ]
  },
  {
   "cell_type": "markdown",
   "metadata": {
    "colab_type": "text",
    "id": "wkP6PoIZGVGk"
   },
   "source": [
    "Complete the given class. Fill in the given functions along with the class constructor."
   ]
  },
  {
   "cell_type": "markdown",
   "metadata": {
    "colab_type": "text",
    "id": "ULHsApObgDLy"
   },
   "source": [
    "**Function 1.** *Inner product*\n",
    "\n",
    "Perform inner product of two arrays:\n",
    "\n",
    "```\n",
    " x = np.arange(24).reshape((2,3,4))\n",
    " y = np.arange(4)\n",
    "```\n"
   ]
  },
  {
   "cell_type": "markdown",
   "metadata": {
    "colab_type": "text",
    "id": "k8sX1ZL8g0d6"
   },
   "source": [
    "**Function 2.** *Dimension of the vector space*\n",
    "\n",
    "Determine the dimension of the vector space spanned by $\\mathbf{x}_1 = [1, 2, 2, 1]^T$, $\\mathbf{x}_2 = [1, 1, 0, 1]^T$, $\\mathbf{x}_3 = [3,5, 4, 3]^T$\n",
    "using Python.\n"
   ]
  },
  {
   "cell_type": "markdown",
   "metadata": {
    "colab_type": "text",
    "id": "bJ7rRhf3hYKU"
   },
   "source": [
    "**Function 3.**  *Projection of points on a plane.*\n",
    "\n",
    "In the figure, $R$ is a point located at the intersection of the plane and its normal vector. $Q$ is the given point which is to be projected. $\\hat Q$ (Q_hat in the image) is the projection of point $Q$ on the plane. $O\\hat Q$ is the projection vector.\n",
    "\n",
    "Given the plane, project all the given points onto the plane.\n",
    "\n",
    "Complete class method \"Project_points\" which takes input a, b, c coefficients of the plane and returns the projection vectors of the point on the plane. Refer to comments in the function template for further instructions.\n",
    "\n",
    "<h1><center><img src=\"https://drive.google.com/uc?export=view&id=1yb8fGMiG3fGOFBoV3-or291Pb6lUkm7m\" alt=\"Drawing\" width=\"400\"  align=\"center\" />\n",
    "</center></h1>\n",
    "\n",
    "> For a plane: a*x + b*y + c*z = d; x,y,z are in Cartesian coordinate system and a, b, c are the coefficients of the plane. here, a = 10, b = 15, c = 1 and d = 7.\n",
    "\n",
    "\n"
   ]
  },
  {
   "cell_type": "code",
   "execution_count": 1,
   "metadata": {
    "colab": {},
    "colab_type": "code",
    "id": "9E2GrT1th2Om"
   },
   "outputs": [
    {
     "ename": "IndentationError",
     "evalue": "expected an indented block (<ipython-input-1-0c21420fef30>, line 15)",
     "output_type": "error",
     "traceback": [
      "\u001b[0;36m  File \u001b[0;32m\"<ipython-input-1-0c21420fef30>\"\u001b[0;36m, line \u001b[0;32m15\u001b[0m\n\u001b[0;31m    def Compute_inner_products():\u001b[0m\n\u001b[0m      ^\u001b[0m\n\u001b[0;31mIndentationError\u001b[0m\u001b[0;31m:\u001b[0m expected an indented block\n"
     ]
    }
   ],
   "source": [
    "# Importing required packages. Limited to only numpy.\n",
    "import numpy as np\n",
    "from numpy.linalg import matrix_rank\n",
    "\n",
    "np.random.seed(0) # Seed for randomized items, ignore this line.\n",
    "\n",
    "# We define class named Homework3\n",
    "class Homework3():\n",
    "    \n",
    "  \n",
    "  #class constructor\n",
    "  def __init__(self):\n",
    "    # x, y and z array of point coordinates for Qs3. e.g: self.x\n",
    "    # ___ write your code here _____\n",
    "\n",
    "  def Compute_inner_products():\n",
    "    \"\"\"   \n",
    "    Function to compute inner products \n",
    "    \n",
    "    Saves:\n",
    "      inner_product: inner-products of given vectors\n",
    "\n",
    "    \"\"\"\n",
    "    # ___ write your code here _____\n",
    "    pass\n",
    " \n",
    "\n",
    "  \n",
    "  def Compute_dimention():\n",
    "    \"\"\"\n",
    "    Function to compute dimention\n",
    "    \n",
    "    Saves:\n",
    "      dimention: dimention of given vectors\n",
    "\n",
    "    \"\"\"\n",
    "    # ___ write your code here _____\n",
    "    pass\n",
    "\n",
    "      \n",
    "      \n",
    "  def Project_points():\n",
    "    \"\"\"\n",
    "    Function to project the points with coordinates x, y, z onto the plane defined by a*x + b*y + c*z = 1\n",
    "    \n",
    "    Args:\n",
    "      a: Plane coefficent\n",
    "      b: Plane coefficent\n",
    "      c: Plane coefficent\n",
    "      \n",
    "    Saves:\n",
    "      projection_points: projection vectors of the projected point\n",
    "\n",
    "    \"\"\"\n",
    "    # ___ write your code here _____\n",
    "    pass\n",
    "  \n",
    "\n",
    "\n",
    "# main function\n",
    "def main():\n",
    "  \n",
    "  answer = Homework3()  # Construct an object of the Homework3 class\n",
    "  \n",
    "  # Question 1\n",
    "  x_inner = np.arange(24).reshape((2,3,4)) # matrix construction same as in homwork 2\n",
    "  y_inner = np.arange(4)\n",
    "  answer.x_inner = x_inner # Use the provided variable names (x_inner) in the class. Define the variable in class constructor to initialize. \n",
    "  answer.y_inner = y_inner # Initialization for the variable belonging to Homework3 object.  \n",
    "  \n",
    "  # Question 2\n",
    "  v1 = np.asarray([1,2,2,1])\n",
    "  v2 = np.asarray([1,1,0,1])\n",
    "  v3 = np.asarray([3,5,4,3])\n",
    "  answer.v1 = v1 # Use the given variable (v1, v2 ... etc)\n",
    "  answer.v2 = v2\n",
    "  answer.v3 = v3\n",
    " \n",
    "  # Question 3\n",
    "  x = np.random.rand(10) # Generating random 10 point coordinates (x,y,z)\n",
    "  y = np.random.rand(10)\n",
    "  z = np.random.rand(10)\n",
    "  a = 0\n",
    "  b = 0\n",
    "  c = 0\n",
    "  d = 0\n",
    "  answer.x = x # x, y, z values are initailized\n",
    "  answer.y = y\n",
    "  answer.z = z\n",
    "\n",
    "  answer.Compute_inner_products() # We call the class function to compute inner products from the initialized values.\n",
    "  answer.Compute_dimention()\n",
    "  answer.Project_points(a, b, c) # a, b, c are inputs to the function. \n",
    "  \n",
    "  # Saving all answers\n",
    "  hw3_dict = {}\n",
    "  hw3_dict[\"0\"] = x_inner\n",
    "  hw3_dict[\"1\"] = y_inner\n",
    "  hw3_dict[\"2\"] = answer.inner_product # The computed inner product is saved in variable \"inner_product\" of Homework3 object, save it into a dictionary\n",
    "  hw3_dict[\"3\"] = answer.dimention # The computed dimention is saved in variable \"inner_product\" of Homework3 object, save it into a dictionary\n",
    "  hw3_dict[\"4\"] = np.array([x,y,z])\n",
    "  hw3_dict[\"5\"] = answer.projection_points # The computed projection_points is saved in variable \"inner_product\" of Homework3 object, save it into a dictionary\n",
    " \n",
    "  print(\"The inner product is: {}\".format(hw3_dict[\"2\"]))\n",
    "  print(\"The dimention is: {}\".format(hw3_dict[\"3\"]))\n",
    "  print(\"The given point coordinates are :\\n {}, {}, {}\".format(x , y, z))\n",
    "  print(\"The projected points are: \\n {}\".format(hw3_dict[\"4\"]))\n",
    "  \n",
    "if __name__ == \"__main__\":\n",
    "  main()\n"
   ]
  },
  {
   "cell_type": "markdown",
   "metadata": {
    "colab_type": "text",
    "id": "4cdJEk6lTALQ"
   },
   "source": [
    "__Submission:__\n",
    "\n",
    "\n",
    "Save your generated matrix in the form of a dictionary. Note that the keys of the dictionary are strings.\n",
    "\n",
    "\n",
    "*   \"0\" : your_constructed_matrix_x\n",
    "*   \"1\" : your_constructed_matrix_y\n",
    "*   \"2\" : Inner_product_of_matrix\n",
    "*   \"3\" : the_dimention_of_the_given_matrix (Question 2)\n",
    "*   \"4\" : the_numpy_array_of_given_point_coordinates (Question 3)\n",
    "*   \"5\" : the_numpy_array_of_projected_point_coordinates (Question 3)\n",
    "\n",
    "*Note:*\n",
    "* Convert the **\"PHW3_sol.ipynb\"** to **\"hw3_script.py\"**.\n",
    "* Save the dictionary file as **\"hw3_output.npy\"**.\n",
    "* Upload **\"hw3_script.py\"** and **\"hw3_output.npy\"** along with \"hw3_theory.py\".\n",
    "*   *Structure* :\n",
    "The single script \"main\" should call the function and print the corresponding answers of each question and save them to the dictionary which is passed through the function to return. Read more about \"Call by value\" and \"Call by reference\" and \"aliasing \"in python. **Do not include any contextual texts in the output print**. The print should be just what is mentioned as required in the question.\n",
    "*   The Autograder will give you the score to corresponding submission.\n",
    "*    You can submit you code twice per day. But only the latest submission will be considered for your score. \n",
    "*   The script will be manually checked for the presence of the corresponding functions and score will be given only if the required structure is present.\n",
    "\n"
   ]
  }
 ],
 "metadata": {
  "colab": {
   "collapsed_sections": [],
   "name": "PHW3_qs.ipynb",
   "provenance": [],
   "toc_visible": true,
   "version": "0.3.2"
  },
  "kernelspec": {
   "display_name": "Python 3",
   "language": "python",
   "name": "python3"
  },
  "language_info": {
   "codemirror_mode": {
    "name": "ipython",
    "version": 3
   },
   "file_extension": ".py",
   "mimetype": "text/x-python",
   "name": "python",
   "nbconvert_exporter": "python",
   "pygments_lexer": "ipython3",
   "version": "3.6.3"
  }
 },
 "nbformat": 4,
 "nbformat_minor": 1
}
